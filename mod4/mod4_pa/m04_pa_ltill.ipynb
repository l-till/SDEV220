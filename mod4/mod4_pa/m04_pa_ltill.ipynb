{
 "cells": [
  {
   "cell_type": "code",
   "execution_count": 2,
   "id": "1f6fe2d1-a7ea-4974-82f5-8be68e95576c",
   "metadata": {},
   "outputs": [
    {
     "name": "stdout",
     "output_type": "stream",
     "text": [
      "Open 9-5 daily\n"
     ]
    }
   ],
   "source": [
    "import zoo\n",
    "\n",
    "zoo.hours()"
   ]
  },
  {
   "cell_type": "code",
   "execution_count": 3,
   "id": "732693da-f9a3-4581-8916-1c7fcb355f12",
   "metadata": {},
   "outputs": [
    {
     "name": "stdout",
     "output_type": "stream",
     "text": [
      "Open 9-5 daily\n"
     ]
    }
   ],
   "source": [
    "import zoo as menagerie\n",
    "menagerie.hours()"
   ]
  },
  {
   "cell_type": "code",
   "execution_count": 4,
   "id": "76e1c7df-baed-40d2-981e-62bea522caf3",
   "metadata": {},
   "outputs": [],
   "source": [
    "import csv\n",
    "\n",
    "books = [\n",
    "    ['title', 'author', 'year'],\n",
    "    ['The Weirdstone of Brisingamen', 'Alan Garner', 1960],\n",
    "    ['Perdido Street Station', 'China Miéville', 2000],\n",
    "    ['Thud!', 'Terry Pratchett', 2005],\n",
    "    ['The Spellman Files', 'Lisa Lutz', 2007],\n",
    "    ['Small Gods', 'Terry Pratchett', 1992]\n",
    "]\n",
    "\n",
    "with open('books2.csv', 'w', newline='', encoding='utf-8') as file:\n",
    "    writer = csv.writer(file)\n",
    "    writer.writerows(books)"
   ]
  },
  {
   "cell_type": "code",
   "execution_count": 6,
   "id": "4f21bd9a-3694-49ec-af5f-936d6243020e",
   "metadata": {},
   "outputs": [],
   "source": [
    "with open(\"books2.csv\", \"w\") as f:\n",
    "    f.write(\"\"\"title,author,year\n",
    "The Weirdstone of Brisingamen,Alan Garner,1960\n",
    "Perdido Street Station,China Miéville,2000\n",
    "Thud!,Terry Pratchett,2005\n",
    "The Spellman Files,Lisa Lutz,2007\n",
    "Small Gods,Terry Pratchett,1992\"\"\")"
   ]
  },
  {
   "cell_type": "code",
   "execution_count": null,
   "id": "0da9cf17-1c93-47cf-998f-65a19b2eda7c",
   "metadata": {},
   "outputs": [],
   "source": [
    "import sqlite3\n",
    "from sqlalchemy import create_engine, MetaData, select\n",
    "\n",
    "conn = sqlite3.connect(\"books.db\")\n",
    "c = conn.cursor()\n",
    "\n",
    "c.execute(\"\"\"\n",
    "CREATE TABLE IF NOT EXISTS books (\n",
    "    title TEXT,\n",
    "    author TEXT,\n",
    "    year INTEGER\n",
    ")\n",
    "\"\"\")\n",
    "\n",
    "books_data = [\n",
    "    (\"The Weirdstone of Brisingamen\", \"Alan Garner\", 1960),\n",
    "    (\"Perdido Street Station\", \"China Miéville\", 2000),\n",
    "    (\"Thud!\", \"Terry Pratchett\", 2005),\n",
    "    (\"The Spellman Files\", \"Lisa Lutz\", 2007),\n",
    "    (\"Small Gods\", \"Terry Pratchett\", 1992)\n",
    "]\n",
    "\n",
    "c.execute(\"SELECT COUNT(*) FROM books\")\n",
    "if c.fetchone()[0] == 0:\n",
    "    c.executemany(\"INSERT INTO books (title, author, year) VALUES (?, ?, ?)\", books_data)\n",
    "    conn.commit()\n",
    "\n",
    "conn.close()\n",
    "\n",
    "engine = create_engine('sqlite:///books.db')\n",
    "metadata = MetaData()\n",
    "metadata.reflect(bind=engine)\n",
    "\n",
    "books = metadata.tables['books']\n",
    "\n",
    "stmt = select(books.c.title).order_by(books.c.title)\n",
    "\n",
    "\n",
    "with engine.connect() as conn:\n",
    "    result = conn.execute(stmt)\n",
    "    for row in result:\n",
    "        print(row.title)"
   ]
  }
 ],
 "metadata": {
  "kernelspec": {
   "display_name": "Python [conda env:base] *",
   "language": "python",
   "name": "conda-base-py"
  },
  "language_info": {
   "codemirror_mode": {
    "name": "ipython",
    "version": 3
   },
   "file_extension": ".py",
   "mimetype": "text/x-python",
   "name": "python",
   "nbconvert_exporter": "python",
   "pygments_lexer": "ipython3",
   "version": "3.12.7"
  }
 },
 "nbformat": 4,
 "nbformat_minor": 5
}
