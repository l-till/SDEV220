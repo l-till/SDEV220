{
 "cells": [
  {
   "cell_type": "code",
   "execution_count": 4,
   "id": "5acd3cd4-1b5f-4079-90fe-571fb0309ab9",
   "metadata": {},
   "outputs": [
    {
     "name": "stdout",
     "output_type": "stream",
     "text": [
      "['mozarella', 'cinderella', 'salmonella']\n"
     ]
    }
   ],
   "source": [
    "things = ['mozarella', 'cinderella', 'salmonella']\n",
    "print(things)"
   ]
  },
  {
   "cell_type": "code",
   "execution_count": 11,
   "id": "8d13edbc-545b-476d-923b-cb28bf52acd0",
   "metadata": {},
   "outputs": [
    {
     "name": "stdout",
     "output_type": "stream",
     "text": [
      "['mozarella', 'cinderella', 'salmonella']\n",
      "['mozarella', 'Cinderella', 'salmonella']\n"
     ]
    }
   ],
   "source": [
    "things = ['mozarella', 'cinderella', 'salmonella']\n",
    "print(things)\n",
    "things[1] = things[1].capitalize()\n",
    "print(things)"
   ]
  },
  {
   "cell_type": "code",
   "execution_count": 13,
   "id": "fd988040-510a-42c5-b1da-4976cd866f3f",
   "metadata": {},
   "outputs": [
    {
     "name": "stdout",
     "output_type": "stream",
     "text": [
      "['mozarella', 'cinderella', 'salmonella']\n",
      "['mozarella', 'Cinderella', 'salmonella']\n",
      "['MOZARELLA', 'Cinderella', 'salmonella']\n"
     ]
    }
   ],
   "source": [
    "# Did it change the element in the list?\n",
    "# yes\n",
    "things = ['mozarella', 'cinderella', 'salmonella']\n",
    "print(things)\n",
    "things[1] = things[1].capitalize()\n",
    "print(things)\n",
    "things[0] = things[0].upper()\n",
    "print(things)"
   ]
  },
  {
   "cell_type": "code",
   "execution_count": 14,
   "id": "ac2ed971-368d-482b-a407-a8e99f90ab54",
   "metadata": {},
   "outputs": [
    {
     "name": "stdout",
     "output_type": "stream",
     "text": [
      "['mozarella', 'cinderella', 'salmonella']\n",
      "['mozarella', 'Cinderella', 'salmonella']\n",
      "['MOZARELLA', 'Cinderella', 'salmonella']\n",
      "['MOZARELLA', 'Cinderella']\n",
      "Congrats on your nobel prize!\n"
     ]
    }
   ],
   "source": [
    "things = ['mozarella', 'cinderella', 'salmonella']\n",
    "print(things)\n",
    "things[1] = things[1].capitalize()\n",
    "print(things)\n",
    "things[0] = things[0].upper()\n",
    "print(things)\n",
    "del things[2]\n",
    "print(things)\n",
    "print(\"Congrats on your nobel prize!\")"
   ]
  },
  {
   "cell_type": "code",
   "execution_count": 17,
   "id": "442f186e-ff17-4a95-8d70-b1f0fdd30455",
   "metadata": {},
   "outputs": [
    {
     "name": "stdout",
     "output_type": "stream",
     "text": [
      "['Harry', 'Hermione', 'Ron']\n"
     ]
    }
   ],
   "source": [
    "def good():\n",
    "    return['Harry', 'Hermione', 'Ron']\n",
    "print(good())"
   ]
  },
  {
   "cell_type": "code",
   "execution_count": null,
   "id": "0de98d26-1cb7-4583-b439-a12203784a4f",
   "metadata": {},
   "outputs": [],
   "source": [
    "def get_odds():\n",
    "    for number in range(10):\n",
    "        if number % 2 != 0\n",
    "            yield number\n",
    "count = 0 \n",
    "    for odd in odds():\n",
    "        "
   ]
  }
 ],
 "metadata": {
  "kernelspec": {
   "display_name": "Python [conda env:base] *",
   "language": "python",
   "name": "conda-base-py"
  },
  "language_info": {
   "codemirror_mode": {
    "name": "ipython",
    "version": 3
   },
   "file_extension": ".py",
   "mimetype": "text/x-python",
   "name": "python",
   "nbconvert_exporter": "python",
   "pygments_lexer": "ipython3",
   "version": "3.12.7"
  }
 },
 "nbformat": 4,
 "nbformat_minor": 5
}
