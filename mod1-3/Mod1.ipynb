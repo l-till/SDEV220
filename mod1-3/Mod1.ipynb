{
 "cells": [
  {
   "cell_type": "code",
   "execution_count": 1,
   "id": "30c71116-6f34-4fc1-bd23-ade230bedc99",
   "metadata": {},
   "outputs": [
    {
     "data": {
      "text/plain": [
       "3600"
      ]
     },
     "execution_count": 1,
     "metadata": {},
     "output_type": "execute_result"
    }
   ],
   "source": [
    "seconds = 60\n",
    "minutes = 60\n",
    "seconds * minutes"
   ]
  },
  {
   "cell_type": "code",
   "execution_count": 2,
   "id": "476b37ec-e78c-415c-b777-1ff8e71cd7af",
   "metadata": {},
   "outputs": [],
   "source": [
    "seconds_per_hour = (seconds * minutes)"
   ]
  },
  {
   "cell_type": "code",
   "execution_count": 3,
   "id": "a5c4a880-1831-4856-8947-b6ccbedccbbd",
   "metadata": {},
   "outputs": [
    {
     "data": {
      "text/plain": [
       "86400"
      ]
     },
     "execution_count": 3,
     "metadata": {},
     "output_type": "execute_result"
    }
   ],
   "source": [
    "seconds_per_hour * 24"
   ]
  },
  {
   "cell_type": "code",
   "execution_count": 4,
   "id": "11d0ab5c-8ded-4cbe-98b5-4d7132592702",
   "metadata": {},
   "outputs": [],
   "source": [
    "hours = 24\n",
    "seconds_per_day = (seconds_per_hour * hours)"
   ]
  },
  {
   "cell_type": "code",
   "execution_count": 5,
   "id": "8e35d5ed-22ab-4836-a34c-b7c76ae80787",
   "metadata": {},
   "outputs": [
    {
     "name": "stdout",
     "output_type": "stream",
     "text": [
      "86400\n"
     ]
    }
   ],
   "source": [
    "print(seconds_per_day)"
   ]
  },
  {
   "cell_type": "code",
   "execution_count": 6,
   "id": "4ec33d91-facc-49ee-8a79-93a475bc2242",
   "metadata": {},
   "outputs": [
    {
     "name": "stdout",
     "output_type": "stream",
     "text": [
      "86400\n"
     ]
    }
   ],
   "source": [
    "print(seconds_per_day)"
   ]
  },
  {
   "cell_type": "code",
   "execution_count": 7,
   "id": "141972fb-edc2-42ec-80f9-2aad221cf5c0",
   "metadata": {},
   "outputs": [
    {
     "data": {
      "text/plain": [
       "24.0"
      ]
     },
     "execution_count": 7,
     "metadata": {},
     "output_type": "execute_result"
    }
   ],
   "source": [
    "float(seconds_per_day / seconds_per_hour)"
   ]
  },
  {
   "cell_type": "code",
   "execution_count": 8,
   "id": "927f08da-181f-405f-a644-7b6aa102262e",
   "metadata": {},
   "outputs": [
    {
     "data": {
      "text/plain": [
       "24"
      ]
     },
     "execution_count": 8,
     "metadata": {},
     "output_type": "execute_result"
    }
   ],
   "source": [
    "seconds_per_day // seconds_per_hour"
   ]
  },
  {
   "cell_type": "code",
   "execution_count": null,
   "id": "aee9dd61-4102-4bdd-bb4e-3fd0e6f06cd8",
   "metadata": {},
   "outputs": [],
   "source": []
  }
 ],
 "metadata": {
  "kernelspec": {
   "display_name": "anaconda-panel-2023.05-py310",
   "language": "python",
   "name": "conda-env-anaconda-panel-2023.05-py310-py"
  },
  "language_info": {
   "codemirror_mode": {
    "name": "ipython",
    "version": 3
   },
   "file_extension": ".py",
   "mimetype": "text/x-python",
   "name": "python",
   "nbconvert_exporter": "python",
   "pygments_lexer": "ipython3",
   "version": "3.11.5"
  }
 },
 "nbformat": 4,
 "nbformat_minor": 5
}
